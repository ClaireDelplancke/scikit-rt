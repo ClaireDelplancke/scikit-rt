{
 "cells": [
  {
   "cell_type": "code",
   "execution_count": 1,
   "id": "6bec035a-6f46-4796-9ecd-91499955e380",
   "metadata": {},
   "outputs": [],
   "source": [
    "from pathlib import Path\n",
    "\n",
    "from skrt import Image, Patient, StructureSet\n",
    "from skrt.core import get_data_by_filename\n",
    "from voxtox.roi_names import head_and_neck_plan"
   ]
  },
  {
   "cell_type": "code",
   "execution_count": 5,
   "id": "aeb80ca6-b890-41fd-a38e-48429f93d968",
   "metadata": {},
   "outputs": [
    {
     "name": "stdout",
     "output_type": "stream",
     "text": [
      "[PosixPath('/Users/karl/data/innereye_results/head_and_neck_multiple5/VT1_H_23E253K1'), PosixPath('/Users/karl/data/innereye_results/head_and_neck_multiple5/VT1_H_324C1K1L'), PosixPath('/Users/karl/data/innereye_results/head_and_neck_multiple5/VT1_H_33A973K1'), PosixPath('/Users/karl/data/innereye_results/head_and_neck_multiple5/VT1_H_3D6E3K1L'), PosixPath('/Users/karl/data/innereye_results/head_and_neck_multiple5/VT1_H_3F6C02K1'), PosixPath('/Users/karl/data/innereye_results/head_and_neck_multiple5/VT1_H_53164K1L'), PosixPath('/Users/karl/data/innereye_results/head_and_neck_multiple5/VT1_H_53765K1L'), PosixPath('/Users/karl/data/innereye_results/head_and_neck_multiple5/VT1_H_585E02K1'), PosixPath('/Users/karl/data/innereye_results/head_and_neck_multiple5/VT1_H_601E02K1'), PosixPath('/Users/karl/data/innereye_results/head_and_neck_multiple5/VT1_H_642C02K1'), PosixPath('/Users/karl/data/innereye_results/head_and_neck_multiple5/VT1_H_679802K1'), PosixPath('/Users/karl/data/innereye_results/head_and_neck_multiple5/VT1_H_685393K1'), PosixPath('/Users/karl/data/innereye_results/head_and_neck_multiple5/VT1_H_692681K1'), PosixPath('/Users/karl/data/innereye_results/head_and_neck_multiple5/VT1_H_6C1502K1'), PosixPath('/Users/karl/data/innereye_results/head_and_neck_multiple5/VT1_H_71D49K1L'), PosixPath('/Users/karl/data/innereye_results/head_and_neck_multiple5/VT1_H_7213B1K1'), PosixPath('/Users/karl/data/innereye_results/head_and_neck_multiple5/VT1_H_8B597K1L'), PosixPath('/Users/karl/data/innereye_results/head_and_neck_multiple5/VT1_H_927C73K1'), PosixPath('/Users/karl/data/innereye_results/head_and_neck_multiple5/VT1_H_92E012K1'), PosixPath('/Users/karl/data/innereye_results/head_and_neck_multiple5/VT1_H_9FF402K1'), PosixPath('/Users/karl/data/innereye_results/head_and_neck_multiple5/VT1_H_A98302K1'), PosixPath('/Users/karl/data/innereye_results/head_and_neck_multiple5/VT1_H_AEEFE2K1'), PosixPath('/Users/karl/data/innereye_results/head_and_neck_multiple5/VT1_H_B2F981K1'), PosixPath('/Users/karl/data/innereye_results/head_and_neck_multiple5/VT1_H_B97A02K1'), PosixPath('/Users/karl/data/innereye_results/head_and_neck_multiple5/VT1_H_BBA5BK1L'), PosixPath('/Users/karl/data/innereye_results/head_and_neck_multiple5/VT1_H_BD1012K1'), PosixPath('/Users/karl/data/innereye_results/head_and_neck_multiple5/VT1_H_BF10F1K1'), PosixPath('/Users/karl/data/innereye_results/head_and_neck_multiple5/VT1_H_CD5602K1'), PosixPath('/Users/karl/data/innereye_results/head_and_neck_multiple5/VT1_H_E4B14K1L'), PosixPath('/Users/karl/data/innereye_results/head_and_neck_multiple5/VT1_H_F1481K1L')]\n"
     ]
    }
   ],
   "source": [
    "# Define data locations.\n",
    "dcm_dir = Path('/Users/karl/data/project_data_2022_test')\n",
    "nii_dir = Path('/Users/karl/data/innereye_results/head_and_neck_multiple5')\n",
    "patient_dirs = sorted(list(nii_dir.glob('VT1_H_*')))"
   ]
  },
  {
   "cell_type": "code",
   "execution_count": 6,
   "id": "3526279b-95df-4059-b743-48593306a6d8",
   "metadata": {},
   "outputs": [],
   "source": [
    "# Create patient object, and extract structure set, from NIfTI data (InnerEye output).\n",
    "p1 = Patient(patient_dirs[0])\n",
    "ss1 = p1.studies[0].cthd_structure_sets[0]\n",
    "# Create patient object, and extract structure set, from DICOM data.\n",
    "p2 = Patient(dcm_dir / p1.id)\n",
    "ss2 = p2.studies[0].ct_structure_sets[0].filtered_copy(names=head_and_neck_plan, keep_renamed_only=True)"
   ]
  },
  {
   "cell_type": "code",
   "execution_count": 7,
   "id": "8f385727-f674-4ec8-9f94-b9a38d7cb1f5",
   "metadata": {},
   "outputs": [
    {
     "name": "stdout",
     "output_type": "stream",
     "text": [
      "/Users/karl/data/innereye_results/head_and_neck_multiple5/VT1_H_23E253K1/20160329_103531/RTSTRUCT/CTHD/20160329_103746_001/innereye_20220326_101852/parotid_right.nii.gz\n",
      "/Users/karl/data/project_data_2022_test/VT1_H_23E253K1/20160329_103531/RTSTRUCT/CT/20160331_085254/RTSTRUCT_20160331_085255.dcm\n"
     ]
    }
   ],
   "source": [
    "# Not part of the work - just to show the different source types...\n",
    "print(ss1.get_rois()[0].path)\n",
    "print(ss2.path)"
   ]
  },
  {
   "cell_type": "code",
   "execution_count": 8,
   "id": "09ad6078-e9a3-4c8d-96fe-2bfcbd04b5f1",
   "metadata": {},
   "outputs": [
    {
     "data": {
      "text/html": [
       "<div>\n",
       "<style scoped>\n",
       "    .dataframe tbody tr th:only-of-type {\n",
       "        vertical-align: middle;\n",
       "    }\n",
       "\n",
       "    .dataframe tbody tr th {\n",
       "        vertical-align: top;\n",
       "    }\n",
       "\n",
       "    .dataframe thead th {\n",
       "        text-align: right;\n",
       "    }\n",
       "</style>\n",
       "<table border=\"1\" class=\"dataframe\">\n",
       "  <thead>\n",
       "    <tr style=\"text-align: right;\">\n",
       "      <th></th>\n",
       "      <th>dice</th>\n",
       "      <th>centroid_x</th>\n",
       "      <th>centroid_y</th>\n",
       "      <th>centroid_z</th>\n",
       "      <th>volume_ratio</th>\n",
       "    </tr>\n",
       "  </thead>\n",
       "  <tbody>\n",
       "    <tr>\n",
       "      <th>parotid_right</th>\n",
       "      <td>0.811589</td>\n",
       "      <td>-0.007409</td>\n",
       "      <td>-1.393090</td>\n",
       "      <td>1.996603</td>\n",
       "      <td>1.176390</td>\n",
       "    </tr>\n",
       "    <tr>\n",
       "      <th>mandible</th>\n",
       "      <td>0.884037</td>\n",
       "      <td>0.410400</td>\n",
       "      <td>1.001824</td>\n",
       "      <td>3.362381</td>\n",
       "      <td>1.192581</td>\n",
       "    </tr>\n",
       "    <tr>\n",
       "      <th>parotid_left</th>\n",
       "      <td>0.840065</td>\n",
       "      <td>-0.966291</td>\n",
       "      <td>1.410200</td>\n",
       "      <td>1.303659</td>\n",
       "      <td>1.211463</td>\n",
       "    </tr>\n",
       "    <tr>\n",
       "      <th>spinal_cord</th>\n",
       "      <td>0.739435</td>\n",
       "      <td>0.526465</td>\n",
       "      <td>-5.209378</td>\n",
       "      <td>19.671083</td>\n",
       "      <td>0.617504</td>\n",
       "    </tr>\n",
       "    <tr>\n",
       "      <th>brainstem</th>\n",
       "      <td>0.471127</td>\n",
       "      <td>-0.500397</td>\n",
       "      <td>5.211619</td>\n",
       "      <td>2.866656</td>\n",
       "      <td>2.725473</td>\n",
       "    </tr>\n",
       "  </tbody>\n",
       "</table>\n",
       "</div>"
      ],
      "text/plain": [
       "                   dice  centroid_x  centroid_y  centroid_z  volume_ratio\n",
       "parotid_right  0.811589   -0.007409   -1.393090    1.996603      1.176390\n",
       "mandible       0.884037    0.410400    1.001824    3.362381      1.192581\n",
       "parotid_left   0.840065   -0.966291    1.410200    1.303659      1.211463\n",
       "spinal_cord    0.739435    0.526465   -5.209378   19.671083      0.617504\n",
       "brainstem      0.471127   -0.500397    5.211619    2.866656      2.725473"
      ]
     },
     "execution_count": 8,
     "metadata": {},
     "output_type": "execute_result"
    }
   ],
   "source": [
    "# Compare ROIs.\n",
    "ss1.get_comparison(ss2, metrics=['dice', 'centroid', 'volume_ratio'])"
   ]
  },
  {
   "cell_type": "code",
   "execution_count": 10,
   "id": "d10fa713-b08b-4c18-a4fc-d86a8029a406",
   "metadata": {},
   "outputs": [
    {
     "name": "stdout",
     "output_type": "stream",
     "text": [
      "dict_keys(['posterior_background', 'posterior_brainstem', 'posterior_mandible', 'posterior_parotid_left', 'posterior_parotid_right', 'posterior_spinal_cord', 'uncertainty'])\n"
     ]
    }
   ],
   "source": [
    "# Obtain dictionary of InnerEye posterior probabilities and uncertainty (Shannon entropy).\n",
    "innereye_images = get_data_by_filename(p1.studies[0].innereye_images)\n",
    "print(innereye_images.keys())"
   ]
  },
  {
   "cell_type": "code",
   "execution_count": 14,
   "id": "dfae179d-fa1c-4dd8-801b-6cf78d5f654f",
   "metadata": {},
   "outputs": [
    {
     "data": {
      "application/vnd.jupyter.widget-view+json": {
       "model_id": "babb1c54d33849dc879c991527eeb7cd",
       "version_major": 2,
       "version_minor": 0
      },
      "text/plain": [
       "VBox(children=(HBox(children=(VBox(children=(RadioButtons(description='Slice plane selection:', options=('x-y'…"
      ]
     },
     "metadata": {},
     "output_type": "display_data"
    },
    {
     "data": {
      "application/vnd.jupyter.widget-view+json": {
       "model_id": "8f086c144cc54ce2b18703047a9f31ee",
       "version_major": 2,
       "version_minor": 0
      },
      "text/plain": [
       "Output()"
      ]
     },
     "metadata": {},
     "output_type": "display_data"
    },
    {
     "data": {
      "application/vnd.jupyter.widget-view+json": {
       "model_id": "27139e446d6c4b438d7aba8fc2c89648",
       "version_major": 2,
       "version_minor": 0
      },
      "text/plain": [
       "VBox(children=(HBox(children=(HTML(value='\\n        <head>\\n            <style>\\n                th, td {\\n   …"
      ]
     },
     "metadata": {},
     "output_type": "display_data"
    },
    {
     "data": {
      "text/plain": [
       "<skrt.better_viewer.BetterViewer at 0x7fc9bd008b20>"
      ]
     },
     "execution_count": 14,
     "metadata": {},
     "output_type": "execute_result"
    }
   ],
   "source": [
    "# View uncertainty.\n",
    "innereye_images['uncertainty'].view(intensity=(0,255), colorbar=True)"
   ]
  },
  {
   "cell_type": "code",
   "execution_count": null,
   "id": "215289a9-c8be-4ea8-8db2-43e768154c51",
   "metadata": {},
   "outputs": [],
   "source": []
  }
 ],
 "metadata": {
  "kernelspec": {
   "display_name": "Python 3 (ipykernel)",
   "language": "python",
   "name": "python3"
  },
  "language_info": {
   "codemirror_mode": {
    "name": "ipython",
    "version": 3
   },
   "file_extension": ".py",
   "mimetype": "text/x-python",
   "name": "python",
   "nbconvert_exporter": "python",
   "pygments_lexer": "ipython3",
   "version": "3.8.12"
  }
 },
 "nbformat": 4,
 "nbformat_minor": 5
}
