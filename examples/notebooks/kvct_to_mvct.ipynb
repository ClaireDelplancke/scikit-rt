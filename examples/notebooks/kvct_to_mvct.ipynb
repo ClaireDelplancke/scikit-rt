{
 "cells": [
  {
   "cell_type": "code",
   "execution_count": null,
   "id": "52e37d21-173d-4d5f-8efc-5b25433ebdf0",
   "metadata": {},
   "outputs": [],
   "source": [
    "from pathlib import Path\n",
    "\n",
    "import random\n",
    "\n",
    "from skrt import Image, Patient\n",
    "from skrt.better_viewer import BetterViewer\n",
    "\n",
    "\n",
    "patient_dir = Path('/Users/karl/data/head_and_neck/vspecial/3_patients__multiple_structures__all_mv')\n",
    "patient_paths = list(patient_dir.glob('VT*'))\n",
    "\n",
    "view_opts = {'intensity': (-200, 300), 'colorbar': True, 'zoom_ui': True, 'zoom': 2}"
   ]
  },
  {
   "cell_type": "code",
   "execution_count": null,
   "id": "eadb3ecb-6a6c-4e13-9523-49b0999449b6",
   "metadata": {},
   "outputs": [],
   "source": [
    "p1 = Patient(str(patient_paths[0]))\n",
    "p1.print(depth=1)"
   ]
  },
  {
   "cell_type": "code",
   "execution_count": null,
   "id": "46caba2b-6896-4772-b784-fe0f3be56257",
   "metadata": {},
   "outputs": [],
   "source": [
    "ct1 = p1.studies[0].ct_images[0]\n",
    "mvct1 = p1.studies[0].mvct_images[0]\n",
    "ct1a = Image(ct1)\n",
    "mvct1a = Image(mvct1)\n",
    "\n",
    "ct1a.print_geometry()\n",
    "print()\n",
    "mvct1a.print_geometry()"
   ]
  },
  {
   "cell_type": "code",
   "execution_count": null,
   "id": "db0d807d-1293-4e77-8feb-e76e0fd443f8",
   "metadata": {},
   "outputs": [],
   "source": [
    "BetterViewer(images=[ct1a, mvct1a], **view_opts)"
   ]
  },
  {
   "cell_type": "code",
   "execution_count": null,
   "id": "8495f981-9345-421b-a30c-4c47facd4cfa",
   "metadata": {},
   "outputs": [],
   "source": [
    "ct1.remove_bolus()\n",
    "ct1b = Image(ct1)\n",
    "mvct1b = Image(mvct1)"
   ]
  },
  {
   "cell_type": "code",
   "execution_count": null,
   "id": "0aca44ce-e8ea-4990-81d0-df741569d55e",
   "metadata": {},
   "outputs": [],
   "source": [
    "BetterViewer(images=[ct1b, mvct1b], **view_opts)"
   ]
  },
  {
   "cell_type": "code",
   "execution_count": null,
   "id": "cba329e8-ddfd-4726-83a0-390ffedfb2c6",
   "metadata": {},
   "outputs": [],
   "source": [
    "ct1.select_foreground()\n",
    "mvct1.select_foreground()\n",
    "ct1c = Image(ct1)\n",
    "mvct1c = Image(mvct1)"
   ]
  },
  {
   "cell_type": "code",
   "execution_count": null,
   "id": "025f6f79-cc6f-4192-9b51-89abf2ae1946",
   "metadata": {},
   "outputs": [],
   "source": [
    "BetterViewer(images=[ct1c, mvct1c], **view_opts)"
   ]
  },
  {
   "cell_type": "code",
   "execution_count": null,
   "id": "89982451-2390-434e-add9-63b480f7b90e",
   "metadata": {},
   "outputs": [],
   "source": [
    "ct1.match_size(mvct1)\n",
    "ct1d = Image(ct1)\n",
    "mvct1d = Image(mvct1)\n",
    "\n",
    "ct1d.print_geometry()\n",
    "print()\n",
    "mvct1d.print_geometry()"
   ]
  },
  {
   "cell_type": "code",
   "execution_count": null,
   "id": "e981267c-6f0e-484b-be35-7e0ebe3528ca",
   "metadata": {},
   "outputs": [],
   "source": [
    "\n",
    "BetterViewer(images=[ct1d, mvct1], **view_opts)"
   ]
  },
  {
   "cell_type": "code",
   "execution_count": null,
   "id": "e030d8bd-8e6f-4139-a14f-11e474a8d370",
   "metadata": {},
   "outputs": [],
   "source": [
    "ct1.map_hu('kv_to_mv')\n",
    "ct1e = Image(ct1)\n",
    "mvct1e = Image(mvct1)"
   ]
  },
  {
   "cell_type": "code",
   "execution_count": null,
   "id": "410b09d2-d695-4ece-9971-7e4bc3eb9916",
   "metadata": {},
   "outputs": [],
   "source": [
    "BetterViewer(images=[ct1e, mvct1e], **view_opts)"
   ]
  },
  {
   "cell_type": "code",
   "execution_count": null,
   "id": "44d1db79-1152-43ae-aa80-e5951ffda707",
   "metadata": {},
   "outputs": [],
   "source": [
    "ct1.add_sinogram_noise(verbose=True)\n",
    "ct1f = Image(ct1)\n",
    "mvct1f = Image(mvct1)"
   ]
  },
  {
   "cell_type": "code",
   "execution_count": null,
   "id": "937c326e-442b-4cc4-952d-b02bf98f60b8",
   "metadata": {},
   "outputs": [],
   "source": [
    "images = [ct1f, mvct1f]\n",
    "init_slice = random.randint(1, ct1f.get_n_voxels()[2])\n",
    "random.shuffle(images)\n",
    "BetterViewer(images=images, init_slice=init_slice, title=['', ''], **view_opts)"
   ]
  },
  {
   "cell_type": "code",
   "execution_count": null,
   "id": "b638a3f9-8c0f-4309-8d04-cbc1a8cd91f3",
   "metadata": {},
   "outputs": [],
   "source": [
    "print(f'left: {images[0].image_type}; right: {images[1].image_type}')"
   ]
  },
  {
   "cell_type": "code",
   "execution_count": null,
   "id": "06451ce4-100c-4cd1-9172-2876ad5ab81f",
   "metadata": {},
   "outputs": [],
   "source": [
    "ct1f.structure_sets[0].view(**view_opts)"
   ]
  },
  {
   "cell_type": "code",
   "execution_count": null,
   "id": "c893d920-18b9-4010-a7ec-18a0e9eb9e5e",
   "metadata": {},
   "outputs": [],
   "source": [
    "help(BetterViewer)"
   ]
  },
  {
   "cell_type": "code",
   "execution_count": null,
   "id": "9bacfdd6-720c-41f9-ab31-039021eb14e3",
   "metadata": {},
   "outputs": [],
   "source": []
  }
 ],
 "metadata": {
  "kernelspec": {
   "display_name": "Python 3 (ipykernel)",
   "language": "python",
   "name": "python3"
  },
  "language_info": {
   "codemirror_mode": {
    "name": "ipython",
    "version": 3
   },
   "file_extension": ".py",
   "mimetype": "text/x-python",
   "name": "python",
   "nbconvert_exporter": "python",
   "pygments_lexer": "ipython3",
   "version": "3.8.12"
  }
 },
 "nbformat": 4,
 "nbformat_minor": 5
}
