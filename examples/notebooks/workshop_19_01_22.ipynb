{
 "cells": [
  {
   "cell_type": "markdown",
   "id": "fed8fc39",
   "metadata": {},
   "source": [
    "# SciKit-RT workshop 19/01/21"
   ]
  },
  {
   "cell_type": "markdown",
   "id": "d07dc045",
   "metadata": {},
   "source": [
    "## Images"
   ]
  },
  {
   "cell_type": "markdown",
   "id": "f6717827",
   "metadata": {},
   "source": [
    "### Loading an image from a dicom file"
   ]
  },
  {
   "cell_type": "code",
   "execution_count": null,
   "id": "5d4b7aa3",
   "metadata": {},
   "outputs": [],
   "source": [
    "from skrt import Image\n",
    "\n",
    "im = Image(\"sample_data/head_and_neck/CT/image\")\n",
    "im"
   ]
  },
  {
   "cell_type": "markdown",
   "id": "a2950292",
   "metadata": {},
   "source": [
    "### Press `tab` to see possible functions"
   ]
  },
  {
   "cell_type": "code",
   "execution_count": null,
   "id": "e2752b73",
   "metadata": {},
   "outputs": [],
   "source": [
    "im."
   ]
  },
  {
   "cell_type": "code",
   "execution_count": null,
   "id": "e1547943",
   "metadata": {},
   "outputs": [],
   "source": [
    "# Examine its properties\n",
    "print(\"Voxel size:\", im.get_voxel_size())\n",
    "print(\"Origin:\", im.get_origin())\n",
    "print(\"Number of voxels:\", im.get_n_voxels())"
   ]
  },
  {
   "cell_type": "code",
   "execution_count": null,
   "id": "d67585ed",
   "metadata": {},
   "outputs": [],
   "source": [
    "# Access the image array\n",
    "data = im.get_data()\n",
    "data.shape"
   ]
  },
  {
   "cell_type": "markdown",
   "id": "ef3f499d",
   "metadata": {},
   "source": [
    "### Plotting an image"
   ]
  },
  {
   "cell_type": "code",
   "execution_count": null,
   "id": "bf464861",
   "metadata": {},
   "outputs": [],
   "source": [
    "im.plot()"
   ]
  },
  {
   "cell_type": "markdown",
   "id": "a7b336af",
   "metadata": {},
   "source": [
    "### Customising the plot"
   ]
  },
  {
   "cell_type": "code",
   "execution_count": null,
   "id": "ae3a13f4",
   "metadata": {},
   "outputs": [],
   "source": [
    "# Use python's \"help\" function for documentation\n",
    "help(im.plot)"
   ]
  },
  {
   "cell_type": "code",
   "execution_count": null,
   "id": "e17ec3b6",
   "metadata": {},
   "outputs": [],
   "source": [
    "# Plotting with extra arguments\n",
    "im.plot(\n",
    "    pos=20,\n",
    "    annotate_slice='lime',\n",
    "    zoom=1.5,\n",
    "    colorbar=True,\n",
    "    title='Head and neck CT scan',\n",
    "    major_ticks=100,\n",
    "    minor_ticks=10\n",
    ")"
   ]
  },
  {
   "cell_type": "markdown",
   "id": "d8d8e148",
   "metadata": {},
   "source": [
    "### Interactive plotting with `view()`"
   ]
  },
  {
   "cell_type": "code",
   "execution_count": null,
   "id": "01faa29e",
   "metadata": {},
   "outputs": [],
   "source": [
    "im.view()"
   ]
  },
  {
   "cell_type": "markdown",
   "id": "d9660894",
   "metadata": {},
   "source": [
    "### Writing an image"
   ]
  },
  {
   "cell_type": "code",
   "execution_count": null,
   "id": "c6151a5b",
   "metadata": {},
   "outputs": [],
   "source": [
    "im.write(\"my_image.nii\")    # nifti\n",
    "im.write(\"my_image_dicom\")  # dicom"
   ]
  },
  {
   "cell_type": "markdown",
   "id": "e6a89d09",
   "metadata": {},
   "source": [
    "### Comparing two images"
   ]
  },
  {
   "cell_type": "code",
   "execution_count": null,
   "id": "d616be58",
   "metadata": {},
   "outputs": [],
   "source": [
    "# Load MVCT scans from different treatment days\n",
    "im1 = Image(\"sample_data/head_and_neck/MVCT/1/image\", title=\"MVCT 1\")\n",
    "im2 = Image(\"sample_data/head_and_neck/MVCT/2/image\", title=\"MVCT 2\")"
   ]
  },
  {
   "cell_type": "code",
   "execution_count": null,
   "id": "8b07ce83",
   "metadata": {},
   "outputs": [],
   "source": [
    "# View side-by-side\n",
    "im1.view(images=im2)"
   ]
  },
  {
   "cell_type": "code",
   "execution_count": null,
   "id": "72b10c83",
   "metadata": {},
   "outputs": [],
   "source": [
    "# Create a comparison image\n",
    "im1.view(images=im2, comparison=True)"
   ]
  },
  {
   "cell_type": "code",
   "execution_count": null,
   "id": "76189924",
   "metadata": {},
   "outputs": [],
   "source": [
    "# View the comparison image only\n",
    "im1.view(images=im2, comparison=True, comparison_only=True)"
   ]
  },
  {
   "cell_type": "markdown",
   "id": "c2229133",
   "metadata": {},
   "source": [
    "## Structure sets and ROIs"
   ]
  },
  {
   "cell_type": "markdown",
   "id": "291b18d1",
   "metadata": {},
   "source": [
    "- Loading from dicom\n",
    "- Print ROIs\n",
    "- Plot/view\n",
    "\n",
    "- Get a specific ROI\n",
    "- Note contour and mask representations (show both)\n",
    "- Get geometric properties\n",
    "- Get ROI comparisons\n",
    "\n",
    "- Open another StructureSet\n",
    "- Note names mismatch! Mention filtering, colouring, etc\n",
    "- Get ROI comparison table for all, save to csv, etc\n",
    "- Interactive comparison viewing\n",
    "\n",
    "- Loading from nifti\n",
    "- Consensus of ROIs; plotting; comparing each to consensus of others"
   ]
  },
  {
   "cell_type": "markdown",
   "id": "b6ee8a0e",
   "metadata": {},
   "source": [
    "### Load a structure set from dicom"
   ]
  },
  {
   "cell_type": "code",
   "execution_count": null,
   "id": "4cd7ec62",
   "metadata": {},
   "outputs": [],
   "source": [
    "from skrt import StructureSet\n",
    "\n",
    "structs = StructureSet(\"sample_data/head_and_neck/CT/RTSTRUCT.dcm\")\n",
    "structs"
   ]
  },
  {
   "cell_type": "markdown",
   "id": "7de29379",
   "metadata": {},
   "source": [
    "### Print ROI names"
   ]
  },
  {
   "cell_type": "code",
   "execution_count": null,
   "id": "ea0b9b04",
   "metadata": {},
   "outputs": [],
   "source": [
    "structs.print_rois()"
   ]
  },
  {
   "cell_type": "markdown",
   "id": "42e8a1de",
   "metadata": {},
   "source": [
    "### View the entire structure set"
   ]
  },
  {
   "cell_type": "code",
   "execution_count": null,
   "id": "da641590",
   "metadata": {},
   "outputs": [],
   "source": [
    "structs.view()"
   ]
  },
  {
   "cell_type": "markdown",
   "id": "9c28274f",
   "metadata": {},
   "source": [
    "### Access a single ROI"
   ]
  },
  {
   "cell_type": "code",
   "execution_count": null,
   "id": "4c919214",
   "metadata": {},
   "outputs": [],
   "source": [
    "rois = structs.get_rois()\n",
    "rois"
   ]
  },
  {
   "cell_type": "code",
   "execution_count": null,
   "id": "1617bbba",
   "metadata": {},
   "outputs": [],
   "source": [
    "# Access by name\n",
    "roi = structs.get_roi(\"right parotid\")\n",
    "roi.plot(plot_type='filled', color='teal')"
   ]
  },
  {
   "cell_type": "markdown",
   "id": "801a7a8f",
   "metadata": {},
   "source": [
    "### Access the raw data of an ROI\n",
    "Two ways to represent an ROI:\n",
    "- Lists of contour points on each slice\n",
    "- Binary mask"
   ]
  },
  {
   "cell_type": "code",
   "execution_count": null,
   "id": "53a4316f",
   "metadata": {},
   "outputs": [],
   "source": [
    "# Contours\n",
    "contours = roi.get_contours()\n",
    "contours"
   ]
  },
  {
   "cell_type": "code",
   "execution_count": null,
   "id": "fb0347c9",
   "metadata": {},
   "outputs": [],
   "source": [
    "# Can also get contours in different orientations: 'x-y' (axial), 'x-z' (coronal), or 'y-z' (sagittal)\n",
    "contours_xz = roi.get_contours('x-z')\n",
    "roi.plot('x-z')"
   ]
  },
  {
   "cell_type": "code",
   "execution_count": null,
   "id": "4fe28747",
   "metadata": {},
   "outputs": [],
   "source": [
    "# Binary mask\n",
    "mask = roi.get_mask()\n",
    "mask"
   ]
  },
  {
   "cell_type": "code",
   "execution_count": null,
   "id": "0a3a43a2",
   "metadata": {},
   "outputs": [],
   "source": [
    "roi.plot(plot_type=\"mask\")"
   ]
  },
  {
   "cell_type": "code",
   "execution_count": null,
   "id": "833bd62b",
   "metadata": {},
   "outputs": [],
   "source": [
    "# Plot mask and contour together\n",
    "roi.plot(plot_type=\"filled\")"
   ]
  },
  {
   "cell_type": "code",
   "execution_count": null,
   "id": "2f5b1823",
   "metadata": {},
   "outputs": [],
   "source": [
    "# Interactive viewing\n",
    "roi.view()"
   ]
  },
  {
   "cell_type": "markdown",
   "id": "c45b4fce",
   "metadata": {},
   "source": [
    "### Get the geometric properties of an ROI"
   ]
  },
  {
   "cell_type": "code",
   "execution_count": null,
   "id": "3874a55a",
   "metadata": {
    "scrolled": true
   },
   "outputs": [],
   "source": [
    "roi.get_"
   ]
  },
  {
   "cell_type": "code",
   "execution_count": null,
   "id": "9ab88730",
   "metadata": {},
   "outputs": [],
   "source": [
    "print(\"Volume:\", roi.get_volume())\n",
    "print(\"Area on central slice:\", roi.get_area())\n",
    "print(\"Centroid position:\", roi.get_centroid())"
   ]
  },
  {
   "cell_type": "markdown",
   "id": "7d16c06d",
   "metadata": {},
   "source": [
    "### Get geometric properties of all ROIs in the structure set"
   ]
  },
  {
   "cell_type": "code",
   "execution_count": null,
   "id": "d6f0a625",
   "metadata": {},
   "outputs": [],
   "source": [
    "structs.get_geometry()"
   ]
  },
  {
   "cell_type": "code",
   "execution_count": null,
   "id": "45aa52ef",
   "metadata": {},
   "outputs": [],
   "source": [
    "structs.get_geometry(\n",
    "    metrics=[\"volume\", \"area\", \"length_z\"], \n",
    "    decimal_places=2, \n",
    "    vol_units=\"ml\"\n",
    ")"
   ]
  },
  {
   "cell_type": "code",
   "execution_count": null,
   "id": "7cc73689",
   "metadata": {},
   "outputs": [],
   "source": [
    "# This output is a pandas DataFrame - can write to csv, tex, etc\n",
    "df = structs.get_geometry()\n",
    "df.to_csv('geometric_data.csv')"
   ]
  },
  {
   "cell_type": "markdown",
   "id": "585a4f67",
   "metadata": {},
   "source": [
    "### Assigning an Image to a StructureSet\n",
    "\n",
    "Two ways:\n",
    "- Use the `image` argument when creating the StructureSet\n",
    "- Use the `set_image()` function on the StructureSet"
   ]
  },
  {
   "cell_type": "code",
   "execution_count": null,
   "id": "fcd06093",
   "metadata": {},
   "outputs": [],
   "source": [
    "from skrt import StructureSet\n",
    "structs = StructureSet(\"sample_data/head_and_neck/CT/RTSTRUCT.dcm\", image=im)"
   ]
  },
  {
   "cell_type": "code",
   "execution_count": null,
   "id": "427e0d2a",
   "metadata": {
    "scrolled": false
   },
   "outputs": [],
   "source": [
    "# View interactively with image\n",
    "structs.view()"
   ]
  },
  {
   "cell_type": "code",
   "execution_count": null,
   "id": "39cee859",
   "metadata": {},
   "outputs": [],
   "source": [
    "# View interactively with geometric data\n",
    "structs.view(include_image=True, roi_info=True)"
   ]
  },
  {
   "cell_type": "markdown",
   "id": "a40b3c3e",
   "metadata": {},
   "source": [
    "### Comparing ROIs"
   ]
  },
  {
   "cell_type": "code",
   "execution_count": null,
   "id": "575d29ad",
   "metadata": {},
   "outputs": [],
   "source": [
    "# Extract two ROIs from the structure set and compare them\n",
    "right_parotid = structs.get_roi(\"right parotid\")\n",
    "left_parotid = structs.get_roi(\"left parotid\")\n",
    "\n",
    "print(\"Distance:\", right_parotid.get_abs_centroid_distance(left_parotid))\n",
    "print(\"Dice score:\", right_parotid.get_dice(left_parotid))\n",
    "print(\"Volume difference:\", right_parotid.get_volume_diff(left_parotid))"
   ]
  },
  {
   "cell_type": "code",
   "execution_count": null,
   "id": "2af7c855",
   "metadata": {},
   "outputs": [],
   "source": [
    "# Can also get comparison table as a DataFrame\n",
    "right_parotid.get_comparison(left_parotid)"
   ]
  },
  {
   "cell_type": "markdown",
   "id": "52658157",
   "metadata": {},
   "source": [
    "### Comparing one structure set to another"
   ]
  },
  {
   "cell_type": "code",
   "execution_count": null,
   "id": "70aa304a",
   "metadata": {},
   "outputs": [],
   "source": [
    "# Let's load one of the MVCT structure sets and print its ROIs...\n",
    "structs_mv = StructureSet(\"sample_data/head_and_neck/MVCT/1/RTSTRUCT.dcm\")\n",
    "structs_mv.print_rois()"
   ]
  },
  {
   "cell_type": "code",
   "execution_count": null,
   "id": "d2b3bb52",
   "metadata": {},
   "outputs": [],
   "source": [
    "# Let's look again at the ROIs in the kVCT structure set...\n",
    "structs.print_rois()"
   ]
  },
  {
   "cell_type": "markdown",
   "id": "0580ce5e",
   "metadata": {},
   "source": [
    "### Renaming and filtering ROIs"
   ]
  },
  {
   "cell_type": "code",
   "execution_count": null,
   "id": "ab8a65c3",
   "metadata": {},
   "outputs": [],
   "source": [
    "# Make a naming dictionary (note: case insensitive, * for wildcard)\n",
    "# Maps desired name : potential input names\n",
    "\n",
    "names = {\n",
    "    'MPC': 'mpc',\n",
    "    'Oral cavity': 'oral*cavity',\n",
    "    'SPC': 'spc',\n",
    "    'SG larynx': 'sg*',\n",
    "    'Left parotid': ['left*parotid', 'parotid*left'],\n",
    "    'Right parotid': ['right*parotid', 'parotid*right']\n",
    "}"
   ]
  },
  {
   "cell_type": "code",
   "execution_count": null,
   "id": "01552a3b",
   "metadata": {},
   "outputs": [],
   "source": [
    "# Make a filtered copy of original structure set\n",
    "structs_kv = structs.filtered_copy(names=names, keep_renamed_only=True)\n",
    "structs_kv.print_rois()\n",
    "structs_kv.view()"
   ]
  },
  {
   "cell_type": "code",
   "execution_count": null,
   "id": "769f39f2",
   "metadata": {},
   "outputs": [],
   "source": [
    "# Could also load the StructureSet with the naming dictionary!\n",
    "structs_mv = StructureSet(\n",
    "    \"sample_data/head_and_neck/MVCT/1/RTSTRUCT.dcm\",  \n",
    "    names=names, \n",
    "    keep_renamed_only=True,\n",
    "    ignore_dicom_colors=True,\n",
    "    image=im\n",
    ")\n",
    "structs_mv.print_rois()\n",
    "structs_mv.view()"
   ]
  },
  {
   "cell_type": "code",
   "execution_count": null,
   "id": "6f7320f4",
   "metadata": {},
   "outputs": [],
   "source": [
    "# Get comparison table\n",
    "structs_kv.get_comparison(\n",
    "    structs_mv, \n",
    "    metrics=[\"dice\", \"centroid\"],\n",
    "    decimal_places=2\n",
    ")"
   ]
  },
  {
   "cell_type": "code",
   "execution_count": null,
   "id": "730d3b41",
   "metadata": {
    "scrolled": false
   },
   "outputs": [],
   "source": [
    "# Plot comparisons\n",
    "roi = structs_kv.get_roi(\"Oral cavity\")\n",
    "roi2 = structs_mv.get_roi(\"Oral cavity\")\n",
    "roi.plot_comparison(roi2, names=['kVCT', 'MVCT'], plot_type='centroid')"
   ]
  },
  {
   "cell_type": "code",
   "execution_count": null,
   "id": "54efc49e",
   "metadata": {
    "scrolled": false
   },
   "outputs": [],
   "source": [
    "# Interactively view both structure sets\n",
    "im.view(rois=[structs_kv, structs_mv], compare_rois=['dice', 'dice_slice'])"
   ]
  },
  {
   "cell_type": "code",
   "execution_count": null,
   "id": "c5b0de20",
   "metadata": {},
   "outputs": [],
   "source": []
  },
  {
   "cell_type": "markdown",
   "id": "354bf9d7",
   "metadata": {},
   "source": [
    "### Consensus contours"
   ]
  },
  {
   "cell_type": "code",
   "execution_count": null,
   "id": "52de679d",
   "metadata": {},
   "outputs": [],
   "source": [
    "# Load ROIs from multiple nifti files\n",
    "from skrt import StructureSet\n",
    "\n",
    "iov = StructureSet(\"sample_data/rectum_iov/\")\n",
    "iov.print_rois()"
   ]
  },
  {
   "cell_type": "code",
   "execution_count": null,
   "id": "aaceaedb",
   "metadata": {},
   "outputs": [],
   "source": [
    "iov.plot(plot_type=\"contour\", idx=7)"
   ]
  },
  {
   "cell_type": "code",
   "execution_count": null,
   "id": "2a5af8e3",
   "metadata": {},
   "outputs": [],
   "source": [
    "staple = iov.get_staple()\n",
    "staple.plot(idx=7)"
   ]
  },
  {
   "cell_type": "code",
   "execution_count": null,
   "id": "94ed594a",
   "metadata": {},
   "outputs": [],
   "source": [
    "# Quick consensus plotting functions\n",
    "iov.plot_consensus('majority', rois_in_background=True, color='blue', idx=7)"
   ]
  },
  {
   "cell_type": "code",
   "execution_count": null,
   "id": "bb599334",
   "metadata": {
    "scrolled": false
   },
   "outputs": [],
   "source": [
    "# Interactively compare each contour to the consensus of all others\n",
    "iov.view(roi_plot_type='contour', roi_consensus=True, compare_rois=['dice', 'dice_slice'])"
   ]
  },
  {
   "cell_type": "code",
   "execution_count": null,
   "id": "6b454e14",
   "metadata": {},
   "outputs": [],
   "source": [
    "# Compare every ROI to the consensus of all others\n",
    "iov.get_comparison(comp_type='consensus', consensus_type='majority')"
   ]
  },
  {
   "cell_type": "markdown",
   "id": "f29aae1e",
   "metadata": {},
   "source": [
    "### Loading ROIs from a multi-label array"
   ]
  },
  {
   "cell_type": "code",
   "execution_count": null,
   "id": "bf0acc98",
   "metadata": {},
   "outputs": [],
   "source": [
    "# Try loading the output of an InnerEye segmentation...\n",
    "from skrt import StructureSet\n",
    "structs_innereye = StructureSet(\"sample_data/innereye/segmentation.nii.gz\", \n",
    "                                image=\"sample_data/innereye/MVCT.nii.gz\")\n",
    "structs_innereye.view(roi_plot_type='mask')"
   ]
  },
  {
   "cell_type": "code",
   "execution_count": null,
   "id": "1d3624bc",
   "metadata": {},
   "outputs": [],
   "source": [
    "# Load with the multi_label option\n",
    "structs_innereye = StructureSet(\"sample_data/innereye/segmentation.nii.gz\", \n",
    "                                image=\"sample_data/innereye/MVCT.nii.gz\",\n",
    "                                multi_label=True)\n",
    "structs_innereye.view(roi_plot_type='mask')"
   ]
  },
  {
   "cell_type": "code",
   "execution_count": null,
   "id": "04e513f9",
   "metadata": {},
   "outputs": [],
   "source": [
    "# Set custom names\n",
    "names = [\"bladder\", \"femur1\", \"femur2\", \"prostate\", \"rectum\"]\n",
    "structs_innereye = StructureSet(\"sample_data/innereye/segmentation.nii.gz\", \n",
    "                                image=\"sample_data/innereye/MVCT.nii.gz\",\n",
    "                                multi_label=True,\n",
    "                                names=names\n",
    "                               )\n",
    "structs_innereye.view(roi_plot_type='mask')"
   ]
  },
  {
   "cell_type": "markdown",
   "id": "653cfe5c",
   "metadata": {},
   "source": [
    "## Dose maps"
   ]
  },
  {
   "cell_type": "markdown",
   "id": "781d891e",
   "metadata": {},
   "source": [
    "### Load a dose map from dicom"
   ]
  },
  {
   "cell_type": "code",
   "execution_count": null,
   "id": "e367b0f3",
   "metadata": {},
   "outputs": [],
   "source": [
    "from skrt import Dose\n",
    "\n",
    "dose = Dose(\"sample_data/head_and_neck/CT/RTDOSE.dcm\")\n",
    "dose.view(colorbar=True)"
   ]
  },
  {
   "cell_type": "code",
   "execution_count": null,
   "id": "3f09d456",
   "metadata": {},
   "outputs": [],
   "source": [
    "# Assign an image and view overlay\n",
    "dose.set_image(im)\n",
    "dose.view(include_image=True, title=\"Image with dose\")"
   ]
  },
  {
   "cell_type": "markdown",
   "id": "1c7cdfae",
   "metadata": {},
   "source": [
    "### Get dose inside an ROI"
   ]
  },
  {
   "cell_type": "code",
   "execution_count": null,
   "id": "6e2d7b84",
   "metadata": {},
   "outputs": [],
   "source": [
    "# Get mean dose in left parotid \n",
    "\n",
    "roi = structs_kv.get_roi(\"Left parotid\")\n",
    "\n",
    "print(\"mean dose:\", dose.get_mean_dose(roi))"
   ]
  },
  {
   "cell_type": "code",
   "execution_count": null,
   "id": "76c6c202",
   "metadata": {},
   "outputs": [],
   "source": [
    "# Get dose inside every voxel in the ROI\n",
    "print(dose.get_dose_in_roi(roi))"
   ]
  },
  {
   "cell_type": "markdown",
   "id": "d9ba2cb8",
   "metadata": {},
   "source": [
    "### Plot dose-volume histogram"
   ]
  },
  {
   "cell_type": "code",
   "execution_count": null,
   "id": "39a1ab17",
   "metadata": {},
   "outputs": [],
   "source": [
    "dose.plot_DVH(roi)"
   ]
  },
  {
   "cell_type": "markdown",
   "id": "cb43a0ef",
   "metadata": {},
   "source": [
    "## Image registration"
   ]
  },
  {
   "cell_type": "markdown",
   "id": "48c9285c",
   "metadata": {},
   "source": [
    "- Making a Registration object\n",
    "- Viewing and adding default parameter files\n",
    "- Running the registration, viewing results\n",
    "- Transforming a dose field (then compare)\n",
    "- Transforming a structure set one way\n",
    "- Compare\n",
    "- Get consensus of both ways"
   ]
  },
  {
   "cell_type": "markdown",
   "id": "e34986d3",
   "metadata": {},
   "source": [
    "### Create a Registration object"
   ]
  },
  {
   "cell_type": "code",
   "execution_count": null,
   "id": "886bf90c",
   "metadata": {},
   "outputs": [],
   "source": [
    "# First, set elastix directory if needed\n",
    "from skrt.registration import set_elastix_dir\n",
    "set_elastix_dir(\"/Users/hannahpullen/elastix-5.0.1-mac/\")"
   ]
  },
  {
   "cell_type": "code",
   "execution_count": null,
   "id": "e1de6b72",
   "metadata": {},
   "outputs": [],
   "source": [
    "# Create a Registration object\n",
    "from skrt.registration import Registration\n",
    "\n",
    "reg = Registration(\n",
    "    'my_registration',\n",
    "    fixed='sample_data/head_and_neck/MVCT/1/image/',\n",
    "    moving='sample_data/head_and_neck/CT/image/',\n",
    "    overwrite=True  # Remove any existing data\n",
    ")"
   ]
  },
  {
   "cell_type": "code",
   "execution_count": null,
   "id": "78a99e81",
   "metadata": {},
   "outputs": [],
   "source": [
    "# View the contents of the registration\n",
    "reg"
   ]
  },
  {
   "cell_type": "code",
   "execution_count": null,
   "id": "02c05385",
   "metadata": {},
   "outputs": [],
   "source": [
    "# View input images\n",
    "reg.view_init()"
   ]
  },
  {
   "cell_type": "code",
   "execution_count": null,
   "id": "f9a0e9ba",
   "metadata": {},
   "outputs": [],
   "source": [
    "# View registration steps (none added yet!)\n",
    "reg.steps"
   ]
  },
  {
   "cell_type": "code",
   "execution_count": null,
   "id": "075dd407",
   "metadata": {},
   "outputs": [],
   "source": [
    "# Let's look at the available default parameter files\n",
    "reg.list_default_pfiles()"
   ]
  },
  {
   "cell_type": "code",
   "execution_count": null,
   "id": "a89476dd",
   "metadata": {},
   "outputs": [],
   "source": [
    "# Inspect the contents of a default parameter file\n",
    "reg.get_default_params(\"MI_Translation\")"
   ]
  },
  {
   "cell_type": "code",
   "execution_count": null,
   "id": "1ef23f29",
   "metadata": {},
   "outputs": [],
   "source": [
    "# Add some parameter files to the registration\n",
    "reg.add_default_pfile(\"MI_Translation\")\n",
    "reg.steps"
   ]
  },
  {
   "cell_type": "code",
   "execution_count": null,
   "id": "10505c3d",
   "metadata": {},
   "outputs": [],
   "source": [
    "# Perform registration\n",
    "reg.capture_output = True\n",
    "reg.register(force=True)"
   ]
  },
  {
   "cell_type": "code",
   "execution_count": null,
   "id": "ba5e0c7d",
   "metadata": {},
   "outputs": [],
   "source": [
    "# View the results\n",
    "reg.view_result()"
   ]
  },
  {
   "cell_type": "code",
   "execution_count": null,
   "id": "e12a8618",
   "metadata": {},
   "outputs": [],
   "source": [
    "# Maybe we need to add another step! Add a BSpline (deformable) step\n",
    "reg.add_default_pfile(\"MI_BSpline30\")\n",
    "reg.steps"
   ]
  },
  {
   "cell_type": "code",
   "execution_count": null,
   "id": "10796696",
   "metadata": {},
   "outputs": [],
   "source": [
    "reg.view_result()"
   ]
  },
  {
   "cell_type": "code",
   "execution_count": null,
   "id": "7aa69f52",
   "metadata": {},
   "outputs": [],
   "source": [
    "# Load a pre-existing registration result\n",
    "from skrt.registration import Registration\n",
    "reg = Registration(\"my_registration\")\n",
    "reg"
   ]
  },
  {
   "cell_type": "markdown",
   "id": "33b90781",
   "metadata": {},
   "source": [
    "### Transforming StructureSets\n",
    "Image registration gives us a transform that maps each position in the **fixed image** to its corresponding location in the **moving image**. This gives us two ways to transform contours:\n",
    "\n",
    "1. **Pull** contours from moving image to fixed image by resampling the contour binary mask into the fixed image's frame of reference.\n",
    "\n",
    "2. **Push** contours from fixed image to moving image by applying the transform to the contour points."
   ]
  },
  {
   "cell_type": "code",
   "execution_count": null,
   "id": "53e58ee0",
   "metadata": {},
   "outputs": [],
   "source": [
    "# Resample the kVCT structures (as binary masks) into the MVCT domain\n",
    "from skrt import StructureSet\n",
    "\n",
    "names = {\n",
    "    'MPC': 'mpc',\n",
    "    'Oral cavity': 'oral*cavity',\n",
    "    'SPC': 'spc',\n",
    "    'SG larynx': 'sg*',\n",
    "    'Left parotid': ['left*parotid', 'parotid*left'],\n",
    "    'Right parotid': ['right*parotid', 'parotid*right']\n",
    "}\n",
    "structs_kv = StructureSet(\"sample_data/head_and_neck/CT/RTSTRUCT.dcm\", names=names, keep_renamed_only=True)\n",
    "structs_kv_transformed = reg.transform(structs_kv)"
   ]
  },
  {
   "cell_type": "code",
   "execution_count": null,
   "id": "bb88837e",
   "metadata": {},
   "outputs": [],
   "source": [
    "structs_kv_transformed.view()"
   ]
  },
  {
   "cell_type": "code",
   "execution_count": null,
   "id": "7985211a",
   "metadata": {
    "scrolled": false
   },
   "outputs": [],
   "source": [
    "# Compare the propagated ROIs with the manually drawn ROIs\n",
    "structs_mv = StructureSet(\"sample_data/head_and_neck/MVCT/1/RTSTRUCT.dcm\", names=names, image=reg.fixed_image,\n",
    "                          ignore_dicom_colors=True)\n",
    "structs_mv.view(rois=structs_kv_transformed, compare_rois=True)"
   ]
  },
  {
   "cell_type": "markdown",
   "id": "9556228e",
   "metadata": {},
   "source": [
    "### Transforming contour points"
   ]
  },
  {
   "cell_type": "code",
   "execution_count": null,
   "id": "dc4029ba",
   "metadata": {},
   "outputs": [],
   "source": [
    "# Need to find a transform in the opposite direction (kVCT -> MVCT)\n",
    "reg2 = Registration(\n",
    "    'my_reg2',\n",
    "    fixed='sample_data/head_and_neck/CT/image/',\n",
    "    moving='sample_data/head_and_neck/MVCT/1/image/',\n",
    "    overwrite=True,\n",
    "    pfiles=reg.pfiles  # Copy parameter files from first registration\n",
    ")"
   ]
  },
  {
   "cell_type": "code",
   "execution_count": null,
   "id": "8b6c9400",
   "metadata": {},
   "outputs": [],
   "source": [
    "reg2.register()"
   ]
  },
  {
   "cell_type": "code",
   "execution_count": null,
   "id": "0733cebc",
   "metadata": {},
   "outputs": [],
   "source": [
    "reg2.view_result()"
   ]
  },
  {
   "cell_type": "code",
   "execution_count": null,
   "id": "dbe3f46e",
   "metadata": {
    "scrolled": false
   },
   "outputs": [],
   "source": [
    "# Transform structure points\n",
    "structs_kv2 = reg2.transform(structs_kv, transform_points=True)\n",
    "structs_mv.view(rois=structs_kv2, compare_rois=True)"
   ]
  },
  {
   "cell_type": "code",
   "execution_count": null,
   "id": "845da021",
   "metadata": {},
   "outputs": [],
   "source": [
    "# Or get pandas DataFrame - more useful for non-interactive work\n",
    "structs_mv.get_comparison(structs_kv2)"
   ]
  },
  {
   "cell_type": "code",
   "execution_count": null,
   "id": "21dd1f02",
   "metadata": {
    "scrolled": false
   },
   "outputs": [],
   "source": [
    "# Compare both sets of transformed ROIs\n",
    "structs_kv2.view(rois=[structs_kv_transformed], compare_rois=['dice', 'dice_slice'])"
   ]
  },
  {
   "cell_type": "code",
   "execution_count": null,
   "id": "aa58439b",
   "metadata": {},
   "outputs": [],
   "source": [
    "# Make new StructureSet containing consensus of the two transforms\n",
    "combined = StructureSet()\n",
    "for name in structs_kv2.get_roi_names():\n",
    "    pair = StructureSet([structs_kv2.get_roi(name), structs_kv_transformed.get_roi(name)])\n",
    "    staple = pair.get_overlap()\n",
    "    staple.name = name\n",
    "    combined.add_roi(staple)"
   ]
  },
  {
   "cell_type": "code",
   "execution_count": null,
   "id": "0650bce6",
   "metadata": {},
   "outputs": [],
   "source": [
    "combined.set_image(structs_kv2.image)\n",
    "combined.view(legend=True)"
   ]
  },
  {
   "cell_type": "code",
   "execution_count": null,
   "id": "d3d1eb76",
   "metadata": {},
   "outputs": [],
   "source": []
  }
 ],
 "metadata": {
  "kernelspec": {
   "display_name": "Python 3",
   "language": "python",
   "name": "python3"
  },
  "language_info": {
   "codemirror_mode": {
    "name": "ipython",
    "version": 3
   },
   "file_extension": ".py",
   "mimetype": "text/x-python",
   "name": "python",
   "nbconvert_exporter": "python",
   "pygments_lexer": "ipython3",
   "version": "3.8.11"
  }
 },
 "nbformat": 4,
 "nbformat_minor": 5
}
